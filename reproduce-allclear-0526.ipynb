{
 "cells": [
  {
   "cell_type": "code",
   "execution_count": null,
   "id": "e6d364d2-f9c9-4545-be1a-d999245cbd84",
   "metadata": {},
   "outputs": [],
   "source": [
    "# /share/hariharan/ck696/allclear_0529_lllll/baselines/DiffCR3/models/palette_convnext_ca"
   ]
  },
  {
   "cell_type": "code",
   "execution_count": 2,
   "id": "50240a25-428b-4811-ad16-d4947c1b2ab3",
   "metadata": {
    "tags": []
   },
   "outputs": [
    {
     "name": "stdout",
     "output_type": "stream",
     "text": [
      "Begin srcipt\n",
      "Complete loading packages\n",
      "Using Dataset: original\n",
      "export CUDA_VISIBLE_DEVICES=0\n"
     ]
    },
    {
     "name": "stderr",
     "output_type": "stream",
     "text": [
      "\u001b[34m\u001b[1mwandb\u001b[0m: Currently logged in as: \u001b[33mck696\u001b[0m (\u001b[33mcornell-kao\u001b[0m). Use \u001b[1m`wandb login --relogin`\u001b[0m to force relogin\n"
     ]
    },
    {
     "data": {
      "text/html": [
       "Tracking run with wandb version 0.17.0"
      ],
      "text/plain": [
       "<IPython.core.display.HTML object>"
      ]
     },
     "metadata": {},
     "output_type": "display_data"
    },
    {
     "data": {
      "text/html": [
       "Run data is saved locally in <code>/share/hariharan/ck696/allclear_0529_lllll/baselines/DiffCR3/wandb/run-20240526_212337-lhldo0lj</code>"
      ],
      "text/plain": [
       "<IPython.core.display.HTML object>"
      ]
     },
     "metadata": {},
     "output_type": "display_data"
    },
    {
     "data": {
      "text/html": [
       "Syncing run <strong><a href='https://wandb.ai/cornell-kao/allclear-diffcr-v1/runs/lhldo0lj' target=\"_blank\">DiffCR_original_bs2_0526</a></strong> to <a href='https://wandb.ai/cornell-kao/allclear-diffcr-v1' target=\"_blank\">Weights & Biases</a> (<a href='https://wandb.me/run' target=\"_blank\">docs</a>)<br/>"
      ],
      "text/plain": [
       "<IPython.core.display.HTML object>"
      ]
     },
     "metadata": {},
     "output_type": "display_data"
    },
    {
     "data": {
      "text/html": [
       " View project at <a href='https://wandb.ai/cornell-kao/allclear-diffcr-v1' target=\"_blank\">https://wandb.ai/cornell-kao/allclear-diffcr-v1</a>"
      ],
      "text/plain": [
       "<IPython.core.display.HTML object>"
      ]
     },
     "metadata": {},
     "output_type": "display_data"
    },
    {
     "data": {
      "text/html": [
       " View run at <a href='https://wandb.ai/cornell-kao/allclear-diffcr-v1/runs/lhldo0lj' target=\"_blank\">https://wandb.ai/cornell-kao/allclear-diffcr-v1/runs/lhldo0lj</a>"
      ],
      "text/plain": [
       "<IPython.core.display.HTML object>"
      ]
     },
     "metadata": {},
     "output_type": "display_data"
    },
    {
     "name": "stdout",
     "output_type": "stream",
     "text": [
      "set networks and dataset\n",
      "set metrics, loss, optimizer and  schedulers\n",
      "set model\n",
      "begin training\n"
     ]
    },
    {
     "name": "stderr",
     "output_type": "stream",
     "text": [
      "  0%|          | 0/344 [00:00<?, ?it/s]/share/hariharan/ck696/allclear_0529_lllll/baselines/DiffCR3/core/logger.py:163: FutureWarning: ChainedAssignmentError: behaviour will change in pandas 3.0!\n",
      "You are setting values through chained assignment. Currently this works in certain cases, but when using Copy-on-Write (which will become the default behaviour in pandas 3.0) this will never work to update the original DataFrame or Series, because the intermediate object on which we are setting values will behave as a copy.\n",
      "A typical example is when you are setting values in a column of a DataFrame, like:\n",
      "\n",
      "df[\"col\"][row_indexer] = value\n",
      "\n",
      "Use `df.loc[row_indexer, \"col\"] = values` instead, to perform the assignment in a single step and ensure this keeps updating the original `df`.\n",
      "\n",
      "See the caveats in the documentation: https://pandas.pydata.org/pandas-docs/stable/user_guide/indexing.html#returning-a-view-versus-a-copy\n",
      "\n",
      "  self._data.total[key] += value * n\n",
      "/share/hariharan/ck696/allclear_0529_lllll/baselines/DiffCR3/core/logger.py:164: FutureWarning: ChainedAssignmentError: behaviour will change in pandas 3.0!\n",
      "You are setting values through chained assignment. Currently this works in certain cases, but when using Copy-on-Write (which will become the default behaviour in pandas 3.0) this will never work to update the original DataFrame or Series, because the intermediate object on which we are setting values will behave as a copy.\n",
      "A typical example is when you are setting values in a column of a DataFrame, like:\n",
      "\n",
      "df[\"col\"][row_indexer] = value\n",
      "\n",
      "Use `df.loc[row_indexer, \"col\"] = values` instead, to perform the assignment in a single step and ensure this keeps updating the original `df`.\n",
      "\n",
      "See the caveats in the documentation: https://pandas.pydata.org/pandas-docs/stable/user_guide/indexing.html#returning-a-view-versus-a-copy\n",
      "\n",
      "  self._data.counts[key] += n\n",
      "/share/hariharan/ck696/allclear_0529_lllll/baselines/DiffCR3/core/logger.py:165: FutureWarning: ChainedAssignmentError: behaviour will change in pandas 3.0!\n",
      "You are setting values through chained assignment. Currently this works in certain cases, but when using Copy-on-Write (which will become the default behaviour in pandas 3.0) this will never work to update the original DataFrame or Series, because the intermediate object on which we are setting values will behave as a copy.\n",
      "A typical example is when you are setting values in a column of a DataFrame, like:\n",
      "\n",
      "df[\"col\"][row_indexer] = value\n",
      "\n",
      "Use `df.loc[row_indexer, \"col\"] = values` instead, to perform the assignment in a single step and ensure this keeps updating the original `df`.\n",
      "\n",
      "See the caveats in the documentation: https://pandas.pydata.org/pandas-docs/stable/user_guide/indexing.html#returning-a-view-versus-a-copy\n",
      "\n",
      "  self._data.average[key] = self._data.total[key] / self._data.counts[key]\n",
      "100%|██████████| 344/344 [00:59<00:00,  5.77it/s]\n",
      " 34%|███▍      | 117/344 [00:18<00:35,  6.31it/s]\n",
      "\n",
      "KeyboardInterrupt\n",
      "\n"
     ]
    }
   ],
   "source": [
    "print(\"Begin srcipt\")\n",
    "import sys, os\n",
    "if \"ck696\" in os.getcwd():\n",
    "    sys.path.append(\"/share/hariharan/ck696/allclear/baselines/DiffCR3\")\n",
    "else:\n",
    "    sys.path.append(\"/share/hariharan/cloud_removal/allclear/baselines/DiffCR3\")\n",
    "os.environ[\"WANDB_API_KEY\"] = \"5f04d2ce100707f23b71379f67f28901d496edda\"\n",
    "# os.environ[\"WANDB_MODE\"] = \"disabled\"\n",
    "\n",
    "import argparse\n",
    "import os\n",
    "import warnings\n",
    "import torch\n",
    "import torch.multiprocessing as mp\n",
    "import wandb\n",
    "\n",
    "\n",
    "from core.logger import VisualWriter, InfoLogger\n",
    "import core.praser as Praser\n",
    "import core.util as Util\n",
    "from data import define_dataloader\n",
    "from models import create_model, define_network, define_loss, define_metric\n",
    "\n",
    "print(\"Complete loading packages\")\n",
    "\n",
    "parser = argparse.ArgumentParser()\n",
    "\n",
    "parser.add_argument('-c', '--config', type=str, default='config/ours_sigmoid.json', help='JSON file for configuration')\n",
    "# parser.add_argument('-c', '--config', type=str, default='config/ours_sigmoid.json', help='JSON file for configuration')\n",
    "parser.add_argument('-p', '--phase', type=str, choices=['train','test'], help='Run train or test', default='test')\n",
    "parser.add_argument('-b', '--batch', type=int, default=2, help='Batch size in every gpu')\n",
    "parser.add_argument('-gpu', '--gpu_ids', type=str, default=\"0\")\n",
    "parser.add_argument('-d', '--debug', action='store_true')\n",
    "parser.add_argument('-P', '--port', default='21012', type=str)\n",
    "parser.add_argument('--train_dataset', default='original', type=str, choices=[\"sen2mtc\", \"allclear\"])\n",
    "\n",
    "''' parser configs '''\n",
    "args, _ = parser.parse_known_args()\n",
    "opt = Praser.parse(args)\n",
    "\n",
    "print(f\"Using Dataset: {args.train_dataset}\")\n",
    "\n",
    "''' cuda devices '''\n",
    "gpu_str = ','.join(str(x) for x in opt['gpu_ids'])\n",
    "os.environ['CUDA_VISIBLE_DEVICES'] = gpu_str\n",
    "print('export CUDA_VISIBLE_DEVICES={}'.format(gpu_str))\n",
    "\n",
    "''' use DistributedDataParallel(DDP) and multiprocessing for multi-gpu training'''\n",
    "# [Todo]: multi GPU on multi machine\n",
    "opt['world_size'] = 1 \n",
    "# main_worker(0, 1, opt)\n",
    "\n",
    "gpu = 0\n",
    "ngpus_per_node = 1\n",
    "\n",
    "Util.set_seed(opt['seed'])\n",
    "\n",
    "''' set logger '''\n",
    "phase_logger = InfoLogger(opt)\n",
    "phase_writer = VisualWriter(opt, phase_logger)  \n",
    "phase_logger.info('Create the log file in directory {}.\\n'.format(opt['path']['experiments_root']))\n",
    "\n",
    "run_name = f\"DiffCR_{args.train_dataset}_bs{args.batch}_0526\"\n",
    "wandb.init(project=\"allclear-diffcr-v1\", name=run_name, config=)\n",
    "\n",
    "\n",
    "print('''set networks and dataset''')\n",
    "'''set networks and dataset'''\n",
    "phase_loader, val_loader = define_dataloader(phase_logger, opt) # val_loader is None if phase is test.\n",
    "\n",
    "if args.train_dataset == \"allclear\":\n",
    "    import sys, os\n",
    "    if \"ck696\" in os.getcwd():\n",
    "        sys.path.append(\"/share/hariharan/ck696/allclear\")\n",
    "    else:\n",
    "        sys.path.append(\"/share/hariharan/cloud_removal/allclear\")\n",
    "    \n",
    "    from dataset.dataloader_v1 import CRDataset\n",
    "    from torch.utils.data import DataLoader, Dataset\n",
    "    \n",
    "    class CRDatasetWrapper(Dataset):\n",
    "        def __init__(self, original_dataset):\n",
    "            self.original_dataset = original_dataset\n",
    "    \n",
    "        def __len__(self):\n",
    "            return 688\n",
    "    \n",
    "        def __getitem__(self, idx):\n",
    "            batch = self.original_dataset[idx]\n",
    "            # input_images, target = batch[\"input_images\"], batch[\"target\"], \n",
    "            cond_image = batch[\"input_images\"][(1,2,3),...].reshape(9,256,256)\n",
    "            gt_image = batch[\"target\"][(1,2,3),...].reshape(3,256,256)\n",
    "            return {\"gt_image\": gt_image, \"cond_image\": cond_image, \"path\": [\"\", \"\"]}\n",
    "    \n",
    "    import json\n",
    "    with open('/share/hariharan/cloud_removal/metadata/v3/s2p_tx3_train_2k_v1.json') as f:\n",
    "        metadata = json.load(f)\n",
    "    #len=3168\n",
    "    train_data = CRDataset(metadata, \n",
    "                        selected_rois=\"all\", \n",
    "                        main_sensor=\"s2_toa\", \n",
    "                        aux_sensors=[],\n",
    "                        aux_data=[\"cld_shdw\"],\n",
    "                        format=\"stp\",\n",
    "                        target=\"s2p\",\n",
    "                        tx=3)\n",
    "    wrapped_train_data = CRDatasetWrapper(train_data)\n",
    "    phase_loader = DataLoader(wrapped_train_data, batch_size=args.batch, shuffle=True)\n",
    "\n",
    "networks = [define_network(phase_logger, opt, item_opt) for item_opt in opt['model']['which_networks']]\n",
    "\n",
    "print('''set metrics, loss, optimizer and  schedulers''')\n",
    "''' set metrics, loss, optimizer and  schedulers '''\n",
    "metrics = [define_metric(phase_logger, item_opt) for item_opt in opt['model']['which_metrics']]\n",
    "losses = [define_loss(phase_logger, item_opt) for item_opt in opt['model']['which_losses']]\n",
    "\n",
    "print('''set model''')\n",
    "model = create_model(\n",
    "    opt = opt,\n",
    "    networks = networks,\n",
    "    phase_loader = phase_loader,\n",
    "    val_loader = None,\n",
    "    losses = losses,\n",
    "    metrics = metrics,\n",
    "    logger = phase_logger,\n",
    "    writer = phase_writer\n",
    ")\n",
    "model.save_current_results_flag = 0\n",
    "\n",
    "# model.load_networks()\n",
    "\n",
    "# params = torch.load(\"./pretrained/diffcr_new.pth\")\n",
    "# model.netG.load_state_dict(params,strict=False)\n",
    "print('''begin training''')\n",
    "model.train()\n",
    "\n",
    "model.test()"
   ]
  },
  {
   "cell_type": "code",
   "execution_count": null,
   "id": "d95bae1e-3f7a-4477-8102-7e18538fcb95",
   "metadata": {},
   "outputs": [],
   "source": [
    "model.test()"
   ]
  },
  {
   "cell_type": "code",
   "execution_count": null,
   "id": "10bd918a-0bb1-40b6-9557-f2a4a83f1f97",
   "metadata": {},
   "outputs": [],
   "source": [
    "print(model.test_metrics.result())"
   ]
  },
  {
   "cell_type": "code",
   "execution_count": null,
   "id": "344a8884-340b-4047-baa2-b387054aa763",
   "metadata": {},
   "outputs": [],
   "source": [
    "from tqdm.auto import tqdm\n",
    "from glob import glob\n",
    "import numpy as np\n",
    "import cv2\n",
    "from evaluation.psnr_ssim import calculate_psnr, calculate_ssim\n",
    "\n",
    "PATH = \"/share/hariharan/ck696/allclear/baselines/DiffCR3/experiments/test_ours_double_encoder_splitcaCond_splitcaUnet_sigmoid_240513_153841/results/test\"\n",
    "src = os.path.join(PATH, \"0/GT\")\n",
    "dst = os.path.join(PATH, \"0/Out\")\n",
    "psnr_list = []\n",
    "ssim_list = []\n",
    "for i, j in tqdm(zip(glob(src + \"*\"), glob(dst + \"*\")), total=len(glob(src + \"*\"))):\n",
    "    img1 = cv2.imread(i)\n",
    "    img2 = cv2.imread(j)\n",
    "    psnr = calculate_psnr(img1, img2, 0)\n",
    "    ssim = calculate_ssim(img1, img2, 0)\n",
    "    psnr_list.append(psnr)\n",
    "    ssim_list.append(ssim)\n",
    "print(\"PSNR: \", np.mean(psnr_list))\n",
    "print(\"SSIM: \", np.mean(ssim_list))"
   ]
  },
  {
   "cell_type": "code",
   "execution_count": null,
   "id": "842fc29f-d1a3-45cf-a696-54712a014fa7",
   "metadata": {},
   "outputs": [],
   "source": [
    "model.save_current_results_flag = 0"
   ]
  },
  {
   "cell_type": "code",
   "execution_count": null,
   "id": "8a6127cd-b847-44d4-81cb-3d3e68f8ec14",
   "metadata": {
    "tags": []
   },
   "outputs": [],
   "source": [
    "for batch in phase_loader: break"
   ]
  },
  {
   "cell_type": "code",
   "execution_count": null,
   "id": "28963ab9-36a2-40e3-a48f-c87ba3b6c158",
   "metadata": {},
   "outputs": [],
   "source": [
    "batch.keys(), batch[\"gt_image\"].shape, batch[\"cond_image\"].shape"
   ]
  },
  {
   "cell_type": "code",
   "execution_count": null,
   "id": "daf5d66d-0640-41d3-8bd4-814ce728ab67",
   "metadata": {},
   "outputs": [],
   "source": [
    "batch[\"path\"]"
   ]
  },
  {
   "cell_type": "code",
   "execution_count": null,
   "id": "66901f49-e1ac-4da9-a66e-6cc0879a5ec2",
   "metadata": {},
   "outputs": [],
   "source": []
  },
  {
   "cell_type": "code",
   "execution_count": null,
   "id": "5cb9056e-6781-44ff-a2c7-981f8f195fa6",
   "metadata": {},
   "outputs": [],
   "source": [
    "# for ac_batch in train_loader:\n",
    "#     break\n",
    "for diffcr_batch in wrapped_train_loader:\n",
    "    break"
   ]
  },
  {
   "cell_type": "code",
   "execution_count": null,
   "id": "83db9d23-1fdd-41ed-8815-ca12fa7f1b6f",
   "metadata": {},
   "outputs": [],
   "source": [
    "ac_batch.keys(), ac_batch[\"gt_image\"].shape, ac_batch[\"cond_image\"].shape"
   ]
  },
  {
   "cell_type": "code",
   "execution_count": null,
   "id": "e9273f14-474f-43f4-8d84-ff141d9dbd7f",
   "metadata": {},
   "outputs": [],
   "source": []
  },
  {
   "cell_type": "code",
   "execution_count": null,
   "id": "7a76a432-0fda-4817-b10c-1a2c236250dd",
   "metadata": {},
   "outputs": [],
   "source": []
  },
  {
   "cell_type": "code",
   "execution_count": null,
   "id": "c5197071-d7d7-4da8-8f81-df6977627394",
   "metadata": {},
   "outputs": [],
   "source": []
  }
 ],
 "metadata": {
  "kernelspec": {
   "display_name": "allclear",
   "language": "python",
   "name": "allclear"
  },
  "language_info": {
   "codemirror_mode": {
    "name": "ipython",
    "version": 3
   },
   "file_extension": ".py",
   "mimetype": "text/x-python",
   "name": "python",
   "nbconvert_exporter": "python",
   "pygments_lexer": "ipython3",
   "version": "3.9.19"
  }
 },
 "nbformat": 4,
 "nbformat_minor": 5
}
